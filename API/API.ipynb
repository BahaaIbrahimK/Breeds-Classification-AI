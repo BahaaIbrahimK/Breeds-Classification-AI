{
  "cells": [
    {
      "cell_type": "code",
      "execution_count": null,
      "metadata": {
        "colab": {
          "base_uri": "https://localhost:8080/"
        },
        "id": "64w_jcjv4lZ3",
        "outputId": "ebe1fc60-8e4d-403b-d64a-05bb62779594"
      },
      "outputs": [
        {
          "output_type": "stream",
          "name": "stdout",
          "text": [
            "Mounted at /content/drive\n"
          ]
        }
      ],
      "source": [
        "from google.colab import drive\n",
        "drive.mount('/content/drive')"
      ]
    },
    {
      "cell_type": "code",
      "execution_count": null,
      "metadata": {
        "colab": {
          "base_uri": "https://localhost:8080/"
        },
        "id": "jTnB-k-d2URU",
        "outputId": "7d8702af-f116-4bf2-c266-c97f569ec074"
      },
      "outputs": [
        {
          "output_type": "stream",
          "name": "stdout",
          "text": [
            "Requirement already satisfied: pyngrok in /usr/local/lib/python3.11/dist-packages (7.2.3)\n",
            "Requirement already satisfied: PyYAML>=5.1 in /usr/local/lib/python3.11/dist-packages (from pyngrok) (6.0.2)\n"
          ]
        }
      ],
      "source": [
        "!pip install pyngrok"
      ]
    },
    {
      "cell_type": "code",
      "execution_count": null,
      "metadata": {
        "id": "Z6aGPAJ02URW"
      },
      "outputs": [],
      "source": [
        "import cv2\n",
        "import numpy as np\n",
        "import tensorflow as tf\n",
        "\n",
        "# Preprocess function\n",
        "def preprocess_image(image_path, target_size=(250, 250)):\n",
        "    img = cv2.imread(image_path)\n",
        "    img = cv2.cvtColor(img, cv2.COLOR_BGR2RGB)\n",
        "    img = cv2.resize(img, target_size)\n",
        "    img = tf.keras.applications.mobilenet_v2.preprocess_input(img)\n",
        "    img = np.expand_dims(img, axis=0)\n",
        "    return img\n",
        "\n",
        "# Prediction function\n",
        "def predict_image_class(model, image_path, class_labels):\n",
        "    img = preprocess_image(image_path)\n",
        "    predictions = model.predict(img)\n",
        "    predicted_index = np.argmax(predictions, axis=1)[0]\n",
        "    return class_labels[predicted_index]\n",
        "\n"
      ]
    },
    {
      "cell_type": "code",
      "execution_count": null,
      "metadata": {
        "colab": {
          "base_uri": "https://localhost:8080/"
        },
        "id": "PaLOrOlI2URb",
        "outputId": "1dafacf2-5bd9-4191-83cc-22122ec13b0e"
      },
      "outputs": [
        {
          "metadata": {
            "tags": null
          },
          "name": "stderr",
          "output_type": "stream",
          "text": [
            "WARNING:absl:Compiled the loaded model, but the compiled metrics have yet to be built. `model.compile_metrics` will be empty until you train or evaluate the model.\n",
            "WARNING:absl:Compiled the loaded model, but the compiled metrics have yet to be built. `model.compile_metrics` will be empty until you train or evaluate the model.\n"
          ]
        },
        {
          "metadata": {
            "tags": null
          },
          "name": "stdout",
          "output_type": "stream",
          "text": [
            "Models loaded successfully!\n",
            "To access the app globally, click here: https://7efc-35-234-36-170.ngrok-free.app\n",
            " * Serving Flask app '__main__'\n",
            " * Debug mode: off\n"
          ]
        },
        {
          "metadata": {
            "tags": null
          },
          "name": "stderr",
          "output_type": "stream",
          "text": [
            "INFO:werkzeug:\u001b[31m\u001b[1mWARNING: This is a development server. Do not use it in a production deployment. Use a production WSGI server instead.\u001b[0m\n",
            " * Running on http://127.0.0.1:5000\n",
            "INFO:werkzeug:\u001b[33mPress CTRL+C to quit\u001b[0m\n"
          ]
        },
        {
          "metadata": {
            "tags": null
          },
          "name": "stdout",
          "output_type": "stream",
          "text": [
            "\u001b[1m1/1\u001b[0m \u001b[32m━━━━━━━━━━━━━━━━━━━━\u001b[0m\u001b[37m\u001b[0m \u001b[1m3s\u001b[0m 3s/step\n"
          ]
        },
        {
          "metadata": {
            "tags": null
          },
          "name": "stderr",
          "output_type": "stream",
          "text": [
            "INFO:werkzeug:127.0.0.1 - - [27/Mar/2025 21:03:36] \"POST /Dog HTTP/1.1\" 200 -\n"
          ]
        },
        {
          "metadata": {
            "tags": null
          },
          "name": "stdout",
          "output_type": "stream",
          "text": [
            "\u001b[1m1/1\u001b[0m \u001b[32m━━━━━━━━━━━━━━━━━━━━\u001b[0m\u001b[37m\u001b[0m \u001b[1m0s\u001b[0m 93ms/step\n"
          ]
        },
        {
          "metadata": {
            "tags": null
          },
          "name": "stderr",
          "output_type": "stream",
          "text": [
            "INFO:werkzeug:127.0.0.1 - - [27/Mar/2025 21:03:56] \"POST /Dog HTTP/1.1\" 200 -\n"
          ]
        },
        {
          "metadata": {
            "tags": null
          },
          "name": "stdout",
          "output_type": "stream",
          "text": [
            "\u001b[1m1/1\u001b[0m \u001b[32m━━━━━━━━━━━━━━━━━━━━\u001b[0m\u001b[37m\u001b[0m \u001b[1m1s\u001b[0m 1s/step\n"
          ]
        },
        {
          "metadata": {
            "tags": null
          },
          "name": "stderr",
          "output_type": "stream",
          "text": [
            "INFO:werkzeug:127.0.0.1 - - [27/Mar/2025 21:06:03] \"POST /Cat HTTP/1.1\" 200 -\n"
          ]
        },
        {
          "metadata": {
            "tags": null
          },
          "name": "stdout",
          "output_type": "stream",
          "text": [
            "\u001b[1m1/1\u001b[0m \u001b[32m━━━━━━━━━━━━━━━━━━━━\u001b[0m\u001b[37m\u001b[0m \u001b[1m0s\u001b[0m 92ms/step\n"
          ]
        },
        {
          "metadata": {
            "tags": null
          },
          "name": "stderr",
          "output_type": "stream",
          "text": [
            "INFO:werkzeug:127.0.0.1 - - [27/Mar/2025 21:06:35] \"POST /Cat HTTP/1.1\" 200 -\n"
          ]
        },
        {
          "metadata": {
            "tags": null
          },
          "name": "stdout",
          "output_type": "stream",
          "text": [
            "\u001b[1m1/1\u001b[0m \u001b[32m━━━━━━━━━━━━━━━━━━━━\u001b[0m\u001b[37m\u001b[0m \u001b[1m0s\u001b[0m 101ms/step\n"
          ]
        },
        {
          "metadata": {
            "tags": null
          },
          "name": "stderr",
          "output_type": "stream",
          "text": [
            "INFO:werkzeug:127.0.0.1 - - [27/Mar/2025 21:13:45] \"POST /Dog HTTP/1.1\" 200 -\n"
          ]
        },
        {
          "metadata": {
            "tags": null
          },
          "name": "stdout",
          "output_type": "stream",
          "text": [
            "\u001b[1m1/1\u001b[0m \u001b[32m━━━━━━━━━━━━━━━━━━━━\u001b[0m\u001b[37m\u001b[0m \u001b[1m0s\u001b[0m 116ms/step\n"
          ]
        },
        {
          "metadata": {
            "tags": null
          },
          "name": "stderr",
          "output_type": "stream",
          "text": [
            "INFO:werkzeug:127.0.0.1 - - [27/Mar/2025 21:26:18] \"POST /Cat HTTP/1.1\" 200 -\n"
          ]
        },
        {
          "metadata": {
            "tags": null
          },
          "name": "stdout",
          "output_type": "stream",
          "text": [
            "\u001b[1m1/1\u001b[0m \u001b[32m━━━━━━━━━━━━━━━━━━━━\u001b[0m\u001b[37m\u001b[0m \u001b[1m0s\u001b[0m 96ms/step\n"
          ]
        },
        {
          "metadata": {
            "tags": null
          },
          "name": "stderr",
          "output_type": "stream",
          "text": [
            "INFO:werkzeug:127.0.0.1 - - [27/Mar/2025 21:26:36] \"POST /Cat HTTP/1.1\" 200 -\n"
          ]
        },
        {
          "output_type": "stream",
          "name": "stdout",
          "text": [
            "\u001b[1m1/1\u001b[0m \u001b[32m━━━━━━━━━━━━━━━━━━━━\u001b[0m\u001b[37m\u001b[0m \u001b[1m0s\u001b[0m 105ms/step\n"
          ]
        },
        {
          "output_type": "stream",
          "name": "stderr",
          "text": [
            "INFO:werkzeug:127.0.0.1 - - [27/Mar/2025 21:43:50] \"POST /Cat HTTP/1.1\" 200 -\n"
          ]
        },
        {
          "output_type": "stream",
          "name": "stdout",
          "text": [
            "\u001b[1m1/1\u001b[0m \u001b[32m━━━━━━━━━━━━━━━━━━━━\u001b[0m\u001b[37m\u001b[0m \u001b[1m0s\u001b[0m 88ms/step\n"
          ]
        },
        {
          "output_type": "stream",
          "name": "stderr",
          "text": [
            "INFO:werkzeug:127.0.0.1 - - [27/Mar/2025 21:44:47] \"POST /Cat HTTP/1.1\" 200 -\n"
          ]
        },
        {
          "output_type": "stream",
          "name": "stdout",
          "text": [
            "\u001b[1m1/1\u001b[0m \u001b[32m━━━━━━━━━━━━━━━━━━━━\u001b[0m\u001b[37m\u001b[0m \u001b[1m0s\u001b[0m 90ms/step\n"
          ]
        },
        {
          "output_type": "stream",
          "name": "stderr",
          "text": [
            "INFO:werkzeug:127.0.0.1 - - [27/Mar/2025 21:50:00] \"POST /Cat HTTP/1.1\" 200 -\n"
          ]
        },
        {
          "output_type": "stream",
          "name": "stdout",
          "text": [
            "\u001b[1m1/1\u001b[0m \u001b[32m━━━━━━━━━━━━━━━━━━━━\u001b[0m\u001b[37m\u001b[0m \u001b[1m0s\u001b[0m 91ms/step\n"
          ]
        },
        {
          "output_type": "stream",
          "name": "stderr",
          "text": [
            "INFO:werkzeug:127.0.0.1 - - [27/Mar/2025 21:50:17] \"POST /Dog HTTP/1.1\" 200 -\n"
          ]
        },
        {
          "output_type": "stream",
          "name": "stdout",
          "text": [
            "\u001b[1m1/1\u001b[0m \u001b[32m━━━━━━━━━━━━━━━━━━━━\u001b[0m\u001b[37m\u001b[0m \u001b[1m0s\u001b[0m 85ms/step\n"
          ]
        },
        {
          "output_type": "stream",
          "name": "stderr",
          "text": [
            "INFO:werkzeug:127.0.0.1 - - [27/Mar/2025 21:50:28] \"POST /Dog HTTP/1.1\" 200 -\n"
          ]
        }
      ],
      "source": [
        "from flask import Flask, request, jsonify\n",
        "from tensorflow.keras.models import load_model\n",
        "import os\n",
        "from pyngrok import ngrok\n",
        "\n",
        "# Ngrok setup\n",
        "ngrok.set_auth_token(\"2usn7XXW3bb2TFF7VjRvhxGyHIV_5gWFx9m7hL9wiu9ToyYhB\")\n",
        "public_url = ngrok.connect(5000).public_url\n",
        "\n",
        "# Initialize Flask app\n",
        "app = Flask(__name__)\n",
        "\n",
        "# Load the trained models\n",
        "CAT_MODEL_PATH = \"/content/drive/MyDrive/Anees AI/Models/cat_model.h5\"\n",
        "DOG_MODEL_PATH = \"/content/drive/MyDrive/Anees AI/Models/dog_model.h5\"\n",
        "cat_model = load_model(CAT_MODEL_PATH)\n",
        "dog_model = load_model(DOG_MODEL_PATH)\n",
        "print(\"Models loaded successfully!\")\n",
        "\n",
        "# Define class labels for cats and dogs\n",
        "CAT_class_labels = [\n",
        "    'Abyssinian', 'Bengal', 'Birman', 'Bombay',\n",
        "    'British Shorthair', 'Egyptian Mau', 'Maine Coon',\n",
        "    'Persian', 'Ragdoll', 'Russian Blue',\n",
        "    'Siamese', 'Sphynx'\n",
        "]\n",
        "\n",
        "DOG_class_labels = [\n",
        "    'american', 'basset', 'beagle', 'boxer', 'chihuahua',\n",
        "    'english', 'german', 'great', 'havanese', 'japanese',\n",
        "    'keeshond', 'leonberger', 'miniature', 'newfoundland',\n",
        "    'pomeranian', 'pug', 'saint', 'samoyed', 'scottish',\n",
        "    'shiba', 'staffordshire', 'wheaten', 'yorkshire'\n",
        "]\n",
        "\n",
        "\n",
        "@app.route('/Cat', methods=['POST'])\n",
        "def predict_cat():\n",
        "    \"\"\"\n",
        "    Endpoint to predict the cat breed from an uploaded image.\n",
        "    Returns:\n",
        "        JSON response with predicted class and confidence score.\n",
        "    \"\"\"\n",
        "    if 'image' not in request.files:\n",
        "        return jsonify({\"error\": \"No image file provided.\"}), 400\n",
        "\n",
        "    image_file = request.files['image']\n",
        "    if image_file.filename == '':\n",
        "        return jsonify({\"error\": \"No image file selected.\"}), 400\n",
        "\n",
        "    try:\n",
        "        # Save the uploaded file temporarily\n",
        "        temp_path = \"temp_image.jpg\"\n",
        "        image_file.save(temp_path)\n",
        "\n",
        "        # Preprocess the image\n",
        "        img = preprocess_image(temp_path)\n",
        "\n",
        "        # Make predictions\n",
        "        predictions = cat_model.predict(img)\n",
        "        predicted_index = np.argmax(predictions, axis=1)[0]\n",
        "        predicted_label = CAT_class_labels[predicted_index]\n",
        "        confidence = float(np.max(predictions))\n",
        "\n",
        "        # Cleanup temporary file\n",
        "        os.remove(temp_path)\n",
        "\n",
        "        return jsonify({\n",
        "            \"predicted_class\": predicted_label,\n",
        "            \"confidence\": confidence\n",
        "        })\n",
        "\n",
        "    except Exception as e:\n",
        "        return jsonify({\"error\": str(e)}), 500\n",
        "\n",
        "@app.route('/Dog', methods=['POST'])\n",
        "def predict_dog():\n",
        "    \"\"\"\n",
        "    Endpoint to predict the dog breed from an uploaded image.\n",
        "    Returns:\n",
        "        JSON response with predicted class and confidence score.\n",
        "    \"\"\"\n",
        "    if 'image' not in request.files:\n",
        "        return jsonify({\"error\": \"No image file provided.\"}), 400\n",
        "\n",
        "    image_file = request.files['image']\n",
        "    if image_file.filename == '':\n",
        "        return jsonify({\"error\": \"No image file selected.\"}), 400\n",
        "\n",
        "    try:\n",
        "        # Save the uploaded file temporarily\n",
        "        temp_path = \"temp_image.jpg\"\n",
        "        image_file.save(temp_path)\n",
        "\n",
        "        # Preprocess the image\n",
        "        img = preprocess_image(temp_path)\n",
        "\n",
        "        # Make predictions\n",
        "        predictions = dog_model.predict(img)\n",
        "        predicted_index = np.argmax(predictions, axis=1)[0]\n",
        "        predicted_label = DOG_class_labels[predicted_index]\n",
        "        confidence = float(np.max(predictions))\n",
        "\n",
        "        # Cleanup temporary file\n",
        "        os.remove(temp_path)\n",
        "\n",
        "        return jsonify({\n",
        "            \"predicted_class\": predicted_label,\n",
        "            \"confidence\": confidence\n",
        "        })\n",
        "\n",
        "    except Exception as e:\n",
        "        return jsonify({\"error\": str(e)}), 500\n",
        "\n",
        "# Display the public URL for accessing the app\n",
        "print(f\"To access the app globally, click here: {public_url}\")\n",
        "\n",
        "# Run the Flask app\n",
        "if __name__ == '__main__':\n",
        "    app.run(port=5000)\n"
      ]
    },
    {
      "cell_type": "code",
      "execution_count": null,
      "metadata": {
        "id": "HRt6aoFb2URe"
      },
      "outputs": [],
      "source": []
    }
  ],
  "metadata": {
    "colab": {
      "provenance": []
    },
    "kernelspec": {
      "display_name": "Python 3",
      "language": "python",
      "name": "python3"
    },
    "language_info": {
      "codemirror_mode": {
        "name": "ipython",
        "version": 3
      },
      "file_extension": ".py",
      "mimetype": "text/x-python",
      "name": "python",
      "nbconvert_exporter": "python",
      "pygments_lexer": "ipython3",
      "version": "3.10.5"
    }
  },
  "nbformat": 4,
  "nbformat_minor": 0
}
